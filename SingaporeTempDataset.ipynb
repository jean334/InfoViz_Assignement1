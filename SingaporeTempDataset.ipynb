{
 "cells": [
  {
   "cell_type": "markdown",
   "metadata": {},
   "source": [
    "# This notebook aims at preparing the data for tableau\n",
    "\n",
    "The intended visualization is a dual-axis bar and line chart. The bars represent the difference between consecutive five-year average Singapore temperatures, highlighting the fact that this difference tends to be positive—in other words, that Earth's temperature is consistently rising. The plot is inpsired by a famous plot of the GIEC (see project report)\n",
    " \n",
    "The line chart displays the average temperature over half-decades. The 0°C reference is omitted, as the focus is on temperature evolution rather than absolute values."
   ]
  },
  {
   "cell_type": "markdown",
   "metadata": {},
   "source": [
    "## Importing the libraries"
   ]
  },
  {
   "cell_type": "code",
   "execution_count": 15,
   "metadata": {},
   "outputs": [],
   "source": [
    "import plotly.express as px\n",
    "import pandas as pd\n",
    "import numpy as np\n",
    "import matplotlib.pyplot as plt\n",
    "import matplotlib.colors as mcolors"
   ]
  },
  {
   "cell_type": "markdown",
   "metadata": {},
   "source": [
    "## Importing the data as pandas dataFrame"
   ]
  },
  {
   "cell_type": "code",
   "execution_count": 3,
   "metadata": {},
   "outputs": [
    {
     "data": {
      "text/html": [
       "<div>\n",
       "<style scoped>\n",
       "    .dataframe tbody tr th:only-of-type {\n",
       "        vertical-align: middle;\n",
       "    }\n",
       "\n",
       "    .dataframe tbody tr th {\n",
       "        vertical-align: top;\n",
       "    }\n",
       "\n",
       "    .dataframe thead th {\n",
       "        text-align: right;\n",
       "    }\n",
       "</style>\n",
       "<table border=\"1\" class=\"dataframe\">\n",
       "  <thead>\n",
       "    <tr style=\"text-align: right;\">\n",
       "      <th></th>\n",
       "      <th>dt</th>\n",
       "      <th>AverageTemperature</th>\n",
       "      <th>AverageTemperatureUncertainty</th>\n",
       "      <th>Country</th>\n",
       "    </tr>\n",
       "  </thead>\n",
       "  <tbody>\n",
       "    <tr>\n",
       "      <th>468141</th>\n",
       "      <td>1825-01-01</td>\n",
       "      <td>25.332</td>\n",
       "      <td>3.150</td>\n",
       "      <td>Singapore</td>\n",
       "    </tr>\n",
       "    <tr>\n",
       "      <th>468142</th>\n",
       "      <td>1825-02-01</td>\n",
       "      <td>25.549</td>\n",
       "      <td>1.378</td>\n",
       "      <td>Singapore</td>\n",
       "    </tr>\n",
       "    <tr>\n",
       "      <th>468143</th>\n",
       "      <td>1825-03-01</td>\n",
       "      <td>26.285</td>\n",
       "      <td>2.136</td>\n",
       "      <td>Singapore</td>\n",
       "    </tr>\n",
       "    <tr>\n",
       "      <th>468144</th>\n",
       "      <td>1825-04-01</td>\n",
       "      <td>26.999</td>\n",
       "      <td>2.541</td>\n",
       "      <td>Singapore</td>\n",
       "    </tr>\n",
       "    <tr>\n",
       "      <th>468145</th>\n",
       "      <td>1825-05-01</td>\n",
       "      <td>27.450</td>\n",
       "      <td>1.556</td>\n",
       "      <td>Singapore</td>\n",
       "    </tr>\n",
       "    <tr>\n",
       "      <th>...</th>\n",
       "      <td>...</td>\n",
       "      <td>...</td>\n",
       "      <td>...</td>\n",
       "      <td>...</td>\n",
       "    </tr>\n",
       "    <tr>\n",
       "      <th>470401</th>\n",
       "      <td>2013-05-01</td>\n",
       "      <td>28.083</td>\n",
       "      <td>0.189</td>\n",
       "      <td>Singapore</td>\n",
       "    </tr>\n",
       "    <tr>\n",
       "      <th>470402</th>\n",
       "      <td>2013-06-01</td>\n",
       "      <td>28.662</td>\n",
       "      <td>0.431</td>\n",
       "      <td>Singapore</td>\n",
       "    </tr>\n",
       "    <tr>\n",
       "      <th>470403</th>\n",
       "      <td>2013-07-01</td>\n",
       "      <td>27.487</td>\n",
       "      <td>0.418</td>\n",
       "      <td>Singapore</td>\n",
       "    </tr>\n",
       "    <tr>\n",
       "      <th>470404</th>\n",
       "      <td>2013-08-01</td>\n",
       "      <td>27.372</td>\n",
       "      <td>0.417</td>\n",
       "      <td>Singapore</td>\n",
       "    </tr>\n",
       "    <tr>\n",
       "      <th>470405</th>\n",
       "      <td>2013-09-01</td>\n",
       "      <td>NaN</td>\n",
       "      <td>NaN</td>\n",
       "      <td>Singapore</td>\n",
       "    </tr>\n",
       "  </tbody>\n",
       "</table>\n",
       "<p>2265 rows × 4 columns</p>\n",
       "</div>"
      ],
      "text/plain": [
       "                dt  AverageTemperature  AverageTemperatureUncertainty  \\\n",
       "468141  1825-01-01              25.332                          3.150   \n",
       "468142  1825-02-01              25.549                          1.378   \n",
       "468143  1825-03-01              26.285                          2.136   \n",
       "468144  1825-04-01              26.999                          2.541   \n",
       "468145  1825-05-01              27.450                          1.556   \n",
       "...            ...                 ...                            ...   \n",
       "470401  2013-05-01              28.083                          0.189   \n",
       "470402  2013-06-01              28.662                          0.431   \n",
       "470403  2013-07-01              27.487                          0.418   \n",
       "470404  2013-08-01              27.372                          0.417   \n",
       "470405  2013-09-01                 NaN                            NaN   \n",
       "\n",
       "          Country  \n",
       "468141  Singapore  \n",
       "468142  Singapore  \n",
       "468143  Singapore  \n",
       "468144  Singapore  \n",
       "468145  Singapore  \n",
       "...           ...  \n",
       "470401  Singapore  \n",
       "470402  Singapore  \n",
       "470403  Singapore  \n",
       "470404  Singapore  \n",
       "470405  Singapore  \n",
       "\n",
       "[2265 rows x 4 columns]"
      ]
     },
     "execution_count": 3,
     "metadata": {},
     "output_type": "execute_result"
    }
   ],
   "source": [
    "country_temp = pd.read_csv('Dataset/GlobalLandTemperaturesByCountry.csv')\n",
    "Singapore_temp = country_temp[country_temp['Country'] == 'Singapore']\n",
    "Singapore_temp"
   ]
  },
  {
   "cell_type": "markdown",
   "metadata": {},
   "source": [
    "## Verifying the data"
   ]
  },
  {
   "cell_type": "code",
   "execution_count": 13,
   "metadata": {},
   "outputs": [
    {
     "name": "stdout",
     "output_type": "stream",
     "text": [
      "468141    1825-01-01\n",
      "468142    1825-02-01\n",
      "468143    1825-03-01\n",
      "468144    1825-04-01\n",
      "468145    1825-05-01\n",
      "             ...    \n",
      "470401    2013-05-01\n",
      "470402    2013-06-01\n",
      "470403    2013-07-01\n",
      "470404    2013-08-01\n",
      "470405    2013-09-01\n",
      "Name: dt, Length: 2265, dtype: object\n",
      "1825\n",
      "[]\n",
      "[]\n"
     ]
    }
   ],
   "source": [
    "import re\n",
    "\n",
    "def verify_date_format(date):\n",
    "    re_date = r\"^(\\d{4})-(\\d{2})-(\\d{2})$\"\n",
    "    invalid_index = []\n",
    "    for i, year in enumerate(date):\n",
    "        if(re.match(re_date, year) == False):\n",
    "            invalid_index.append(i)\n",
    "    return invalid_index\n",
    "\n",
    "\n",
    "def verify_date(date):\n",
    "    invalid_index = []\n",
    "    init_index = date.keys()[0]\n",
    "    init_year = int(date[init_index].split('-')[0])\n",
    "    init_month = int(date[init_index].split('-')[1])\n",
    "    print(init_year)\n",
    "    for i, d in enumerate(date):\n",
    "        try:\n",
    "            year = int(d.split('-')[0])\n",
    "            month = int(d.split('-')[1])\n",
    "        except:\n",
    "            print(date[i])\n",
    "            invalid_index.append(i)\n",
    "            continue\n",
    "        if month == init_month and year == init_year:\n",
    "            if month == 12:\n",
    "                init_year += 1\n",
    "                init_month = 0\n",
    "                year += 1\n",
    "                month = 0\n",
    "            month += 1\n",
    "            init_month += 1\n",
    "        if month != init_month or year != init_year:\n",
    "            print(\"test\")\n",
    "            invalid_index.append(i)\n",
    "\n",
    "    return invalid_index\n",
    "\n",
    "\n",
    "year_global_temp = Singapore_temp['dt']\n",
    "print(year_global_temp)\n",
    "\n",
    "invalid_index = verify_date_format(year_global_temp)\n",
    "invalid_index_2 = verify_date(year_global_temp)\n",
    "\n",
    "print(invalid_index)\n",
    "print(invalid_index_2)\n"
   ]
  },
  {
   "cell_type": "markdown",
   "metadata": {},
   "source": [
    "## Filling missing values with the previous one"
   ]
  },
  {
   "cell_type": "code",
   "execution_count": 14,
   "metadata": {},
   "outputs": [
    {
     "name": "stderr",
     "output_type": "stream",
     "text": [
      "C:\\Users\\Jean\\AppData\\Local\\Temp\\ipykernel_241864\\3686136387.py:1: FutureWarning: DataFrame.fillna with 'method' is deprecated and will raise in a future version. Use obj.ffill() or obj.bfill() instead.\n",
      "  Singapore_temp_filled = Singapore_temp.fillna(method='ffill')\n"
     ]
    },
    {
     "data": {
      "text/html": [
       "<div>\n",
       "<style scoped>\n",
       "    .dataframe tbody tr th:only-of-type {\n",
       "        vertical-align: middle;\n",
       "    }\n",
       "\n",
       "    .dataframe tbody tr th {\n",
       "        vertical-align: top;\n",
       "    }\n",
       "\n",
       "    .dataframe thead th {\n",
       "        text-align: right;\n",
       "    }\n",
       "</style>\n",
       "<table border=\"1\" class=\"dataframe\">\n",
       "  <thead>\n",
       "    <tr style=\"text-align: right;\">\n",
       "      <th></th>\n",
       "      <th>dt</th>\n",
       "      <th>AverageTemperature</th>\n",
       "      <th>AverageTemperatureUncertainty</th>\n",
       "      <th>Country</th>\n",
       "    </tr>\n",
       "  </thead>\n",
       "  <tbody>\n",
       "    <tr>\n",
       "      <th>468141</th>\n",
       "      <td>1825-01-01</td>\n",
       "      <td>25.332</td>\n",
       "      <td>3.150</td>\n",
       "      <td>Singapore</td>\n",
       "    </tr>\n",
       "    <tr>\n",
       "      <th>468142</th>\n",
       "      <td>1825-02-01</td>\n",
       "      <td>25.549</td>\n",
       "      <td>1.378</td>\n",
       "      <td>Singapore</td>\n",
       "    </tr>\n",
       "    <tr>\n",
       "      <th>468143</th>\n",
       "      <td>1825-03-01</td>\n",
       "      <td>26.285</td>\n",
       "      <td>2.136</td>\n",
       "      <td>Singapore</td>\n",
       "    </tr>\n",
       "    <tr>\n",
       "      <th>468144</th>\n",
       "      <td>1825-04-01</td>\n",
       "      <td>26.999</td>\n",
       "      <td>2.541</td>\n",
       "      <td>Singapore</td>\n",
       "    </tr>\n",
       "    <tr>\n",
       "      <th>468145</th>\n",
       "      <td>1825-05-01</td>\n",
       "      <td>27.450</td>\n",
       "      <td>1.556</td>\n",
       "      <td>Singapore</td>\n",
       "    </tr>\n",
       "    <tr>\n",
       "      <th>...</th>\n",
       "      <td>...</td>\n",
       "      <td>...</td>\n",
       "      <td>...</td>\n",
       "      <td>...</td>\n",
       "    </tr>\n",
       "    <tr>\n",
       "      <th>470401</th>\n",
       "      <td>2013-05-01</td>\n",
       "      <td>28.083</td>\n",
       "      <td>0.189</td>\n",
       "      <td>Singapore</td>\n",
       "    </tr>\n",
       "    <tr>\n",
       "      <th>470402</th>\n",
       "      <td>2013-06-01</td>\n",
       "      <td>28.662</td>\n",
       "      <td>0.431</td>\n",
       "      <td>Singapore</td>\n",
       "    </tr>\n",
       "    <tr>\n",
       "      <th>470403</th>\n",
       "      <td>2013-07-01</td>\n",
       "      <td>27.487</td>\n",
       "      <td>0.418</td>\n",
       "      <td>Singapore</td>\n",
       "    </tr>\n",
       "    <tr>\n",
       "      <th>470404</th>\n",
       "      <td>2013-08-01</td>\n",
       "      <td>27.372</td>\n",
       "      <td>0.417</td>\n",
       "      <td>Singapore</td>\n",
       "    </tr>\n",
       "    <tr>\n",
       "      <th>470405</th>\n",
       "      <td>2013-09-01</td>\n",
       "      <td>27.372</td>\n",
       "      <td>0.417</td>\n",
       "      <td>Singapore</td>\n",
       "    </tr>\n",
       "  </tbody>\n",
       "</table>\n",
       "<p>2265 rows × 4 columns</p>\n",
       "</div>"
      ],
      "text/plain": [
       "                dt  AverageTemperature  AverageTemperatureUncertainty  \\\n",
       "468141  1825-01-01              25.332                          3.150   \n",
       "468142  1825-02-01              25.549                          1.378   \n",
       "468143  1825-03-01              26.285                          2.136   \n",
       "468144  1825-04-01              26.999                          2.541   \n",
       "468145  1825-05-01              27.450                          1.556   \n",
       "...            ...                 ...                            ...   \n",
       "470401  2013-05-01              28.083                          0.189   \n",
       "470402  2013-06-01              28.662                          0.431   \n",
       "470403  2013-07-01              27.487                          0.418   \n",
       "470404  2013-08-01              27.372                          0.417   \n",
       "470405  2013-09-01              27.372                          0.417   \n",
       "\n",
       "          Country  \n",
       "468141  Singapore  \n",
       "468142  Singapore  \n",
       "468143  Singapore  \n",
       "468144  Singapore  \n",
       "468145  Singapore  \n",
       "...           ...  \n",
       "470401  Singapore  \n",
       "470402  Singapore  \n",
       "470403  Singapore  \n",
       "470404  Singapore  \n",
       "470405  Singapore  \n",
       "\n",
       "[2265 rows x 4 columns]"
      ]
     },
     "execution_count": 14,
     "metadata": {},
     "output_type": "execute_result"
    }
   ],
   "source": [
    "Singapore_temp_filled = Singapore_temp.fillna(method='ffill')\n",
    "Singapore_temp_filled"
   ]
  },
  {
   "cell_type": "markdown",
   "metadata": {},
   "source": [
    "## Defining a few useful functions"
   ]
  },
  {
   "cell_type": "code",
   "execution_count": 23,
   "metadata": {},
   "outputs": [],
   "source": [
    "def calculateMovingAverage(data, window_size):\n",
    "    average_values = []\n",
    "    july_temp = [d for i, d in enumerate(data) if i % 12 == 6]\n",
    "    num_period = len(july_temp)//window_size\n",
    "    for i in range(0, len(july_temp), window_size):\n",
    "        average_values.append(np.mean(july_temp[i:i+window_size]))\n",
    "    return average_values, num_period\n",
    "\n",
    "def calculateDifference(data):\n",
    "    difference = []\n",
    "    for i in range(1, len(data)):\n",
    "        difference.append(data[i] - data[i-1])\n",
    "    return difference\n",
    "\n",
    "def plotDifference(diff):\n",
    "    cmap_pos = plt.cm.Reds  \n",
    "    cmap_neg = plt.cm.Blues  \n",
    "\n",
    "    difference_pos = np.array([d for d in diff if d >= 0])\n",
    "    difference_neg = np.array([d for d in diff if d < 0])\n",
    "\n",
    "    norm_red = mcolors.Normalize(vmin=min(difference_pos), vmax=max(difference_pos))  \n",
    "    norm_blue = mcolors.Normalize(vmin=min(np.abs(difference_neg)), vmax=max(np.abs(difference_neg)))  \n",
    "    colors = [cmap_pos(norm_red(d)) if d >= 0 else cmap_neg(norm_blue(abs(d))) for d in diff]  \n",
    "    plt.bar(range(len(diff)), diff, color=colors)"
   ]
  },
  {
   "cell_type": "code",
   "execution_count": 22,
   "metadata": {},
   "outputs": [
    {
     "data": {
      "image/png": "[encoded data removed]",
      "text/plain": [
       "<Figure size 640x480 with 1 Axes>"
      ]
     },
     "metadata": {},
     "output_type": "display_data"
    }
   ],
   "source": [
    "temp = Singapore_temp_filled['AverageTemperature']\n",
    "\n",
    "average_values, num_period = calculateMovingAverage(temp, 5)\n",
    "\n",
    "\n",
    "difference = calculateDifference(average_values)\n",
    "plotDifference(difference)"
   ]
  },
  {
   "cell_type": "code",
   "execution_count": 24,
   "metadata": {},
   "outputs": [
    {
     "data": {
      "text/plain": [
       "[<matplotlib.lines.Line2D at 0x15bea0b4e10>]"
      ]
     },
     "execution_count": 24,
     "metadata": {},
     "output_type": "execute_result"
    },
    {
     "data": {
      "image/png": "[encoded data removed]",
      "text/plain": [
       "<Figure size 640x480 with 1 Axes>"
      ]
     },
     "metadata": {},
     "output_type": "display_data"
    }
   ],
   "source": [
    "plt.plot(range(len(average_values)), average_values)"
   ]
  },
  {
   "cell_type": "code",
   "execution_count": null,
   "metadata": {},
   "outputs": [],
   "source": [
    "half_decades = [(1825 + i*5, 1825+(i+1)*5) for i in range(num_period+1)]\n",
    "\n",
    "pandas_difference = pd.DataFrame({'Half_decade': half_decades[1:], 'Difference': difference[1:], 'Average_temp': average_values[1:]})\n",
    "pandas_difference.to_csv('Dataset/difference_singapore_temp.csv')\n"
   ]
  }
 ],
 "metadata": {
  "kernelspec": {
   "display_name": "slogan",
   "language": "python",
   "name": "python3"
  },
  "language_info": {
   "codemirror_mode": {
    "name": "ipython",
    "version": 3
   },
   "file_extension": ".py",
   "mimetype": "text/x-python",
   "name": "python",
   "nbconvert_exporter": "python",
   "pygments_lexer": "ipython3",
   "version": "3.13.2"
  }
 },
 "nbformat": 4,
 "nbformat_minor": 2
}
